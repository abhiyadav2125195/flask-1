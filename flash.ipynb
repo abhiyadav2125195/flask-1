{
 "cells": [
  {
   "cell_type": "markdown",
   "id": "b312641b-0161-4277-a5ae-2ff5573d83bb",
   "metadata": {},
   "source": [
    "# Q1. What is Flask Framework? What are the advantages of Flask Framework?"
   ]
  },
  {
   "cell_type": "markdown",
   "id": "18e479b9-979c-4e8d-bb01-fa346fd237ae",
   "metadata": {},
   "source": [
    "Flask is a web framework written in Python. It is designed to be simple, lightweight, and easy to use, making it a popular choice for building web applications and APIs. Flask follows the WSGI (Web Server Gateway Interface) standard, allowing it to work with various web servers.\n",
    "\n",
    "Advantages of Flask Framework:\n",
    "\n",
    "Simplicity: Flask has a minimalistic and intuitive design, making it easy to understand and get started with. Its API is straightforward, allowing developers to quickly build applications without getting overwhelmed by excessive boilerplate code.\n",
    "\n",
    "Flexibility: Flask provides developers with a high degree of flexibility. It doesn't impose any specific directory structure or programming paradigms, allowing developers to structure their applications according to their preferences. This flexibility makes Flask suitable for a wide range of projects.\n",
    "\n",
    "Lightweight: Flask is lightweight and has a small core codebase. It doesn't require external dependencies, except for a few essential libraries. This lightweight nature results in faster startup times and better performance for Flask applications.\n",
    "\n"
   ]
  },
  {
   "cell_type": "markdown",
   "id": "05124c14-f674-4be3-8748-16b54a4a081f",
   "metadata": {},
   "source": [
    "# Q2. Create a simple Flask application to display ‘Hello World!!’. Attach the screenshot of the output in Jupyter Notebook."
   ]
  },
  {
   "cell_type": "code",
   "execution_count": null,
   "id": "d3e0ab1e-a5d7-4dcf-b9aa-626b281ed49a",
   "metadata": {},
   "outputs": [],
   "source": [
    "from flash import Flask\n",
    "app = Flash(__name__)\n",
    "\n",
    "@app.route(\"/\")\n",
    "def hello_world() :\n",
    "    \n",
    "    return \"<h1> \"hello world \" </h1>\n",
    "\n",
    "if _name_ == \"_main_\" :\n",
    "    app.run host=(\"0.0.0.0\")\n",
    "\n"
   ]
  },
  {
   "cell_type": "markdown",
   "id": "7b432912-8f03-42d6-aa27-940671fb1ba4",
   "metadata": {},
   "source": [
    "# Q3. What is App routing in Flask? Why do we use app routes?"
   ]
  },
  {
   "cell_type": "markdown",
   "id": "e71a6e39-35f4-41b7-8e26-b63b6899430b",
   "metadata": {},
   "source": [
    "\n",
    "In Flask, app routing refers to the process of mapping URLs (routes) to specific functions in your application. It allows you to define the behavior of your Flask application based on the URL requested by the client.\n",
    "\n",
    "from flash import flash\n",
    "app = flash(__name__)\n",
    "@app.route(\"/\")\n",
    "def home() :\n",
    "return \"welcome to the home page\"\n",
    "\n",
    "if __name__ = \"__main__\" :\n",
    "app.run host(\"0.0.0.0\")\n",
    "\n",
    "\n",
    "App routes are used in Flask for the following reasons:\n",
    "\n",
    "Handling Different URLs: App routes allow you to define different URLs for different functionalities of your application. This enables you to structure and organize your application's endpoints in a logical manner.\n",
    "\n",
    "RESTful APIs: App routes are commonly used in Flask to build RESTful APIs. Each route corresponds to a specific resource or functionality of the API. By defining routes and associating them with appropriate functions, you can implement different HTTP methods (GET, POST, PUT, DELETE) for performing operations on resources.\n",
    "\n",
    "Separation of Concerns: App routes help in separating different parts of your application's functionality. By assigning specific routes to specific functions, you can achieve a modular structure, making your codebase more organized and maintainable.\n",
    "\n",
    "URL Generation: Flask provides built-in URL generation functions that can be used in templates or other parts of the application to generate URLs based on the defined routes. This allows for more dynamic and flexible navigation within the application."
   ]
  },
  {
   "cell_type": "markdown",
   "id": "ebfd08c1-c62f-4beb-82b7-5437526c6469",
   "metadata": {
    "tags": []
   },
   "source": [
    "# Q4. Create a “/welcome” route to display the welcome message “Welcome to ABC Corporation” and a “/”\n",
    "# route to show the following details:\n",
    "# Company Name: ABC Corporation\n",
    "# Location: India\n",
    "# Contact Detail: 999-999-9999\n",
    "# Attach the screenshot of the output in Jupyter Notebook.\n"
   ]
  },
  {
   "cell_type": "code",
   "execution_count": 3,
   "id": "d927c9ac-68a1-4b09-9daa-cc9e600c0f09",
   "metadata": {},
   "outputs": [
    {
     "ename": "ModuleNotFoundError",
     "evalue": "No module named 'flask'",
     "output_type": "error",
     "traceback": [
      "\u001b[0;31m---------------------------------------------------------------------------\u001b[0m",
      "\u001b[0;31mModuleNotFoundError\u001b[0m                       Traceback (most recent call last)",
      "Cell \u001b[0;32mIn[3], line 1\u001b[0m\n\u001b[0;32m----> 1\u001b[0m \u001b[38;5;28;01mfrom\u001b[39;00m \u001b[38;5;21;01mflask\u001b[39;00m \u001b[38;5;28;01mimport\u001b[39;00m Flask\n\u001b[1;32m      2\u001b[0m app \u001b[38;5;241m=\u001b[39m Flask(\u001b[38;5;18m__name__\u001b[39m)\n\u001b[1;32m      4\u001b[0m \u001b[38;5;129m@app\u001b[39m\u001b[38;5;241m.\u001b[39mroute(\u001b[38;5;124m\"\u001b[39m\u001b[38;5;124m/welcome\u001b[39m\u001b[38;5;124m\"\u001b[39m)\n\u001b[1;32m      5\u001b[0m \u001b[38;5;28;01mdef\u001b[39;00m \u001b[38;5;21mhello\u001b[39m():\n",
      "\u001b[0;31mModuleNotFoundError\u001b[0m: No module named 'flask'"
     ]
    }
   ],
   "source": [
    "\n",
    "    \n",
    "from flask import Flask\n",
    "app = Flask(__name__)\n",
    "\n",
    "@app.route(\"/welcome\")\n",
    "def hello():\n",
    "    return \"Welcome to ABC Corporation\"\n",
    "\n",
    "@app.route(\"/a\")\n",
    "def pw():\n",
    "    return \"Company Name: ABC Corporation\\nLocation: India\\nContact Detail: 999-999-9999\"\n",
    "\n",
    "if __name__ == \"__main__\":\n",
    "    app.run(host=\"0.0.0.0\")    "
   ]
  },
  {
   "cell_type": "markdown",
   "id": "a0ebffce-740d-42de-b826-60693fbc4857",
   "metadata": {
    "tags": []
   },
   "source": [
    "# Q5. What function is used in Flask for URL Building? Write a Python code to demonstrate the working of the  url_for() function."
   ]
  },
  {
   "cell_type": "code",
   "execution_count": null,
   "id": "7af5c37a-6925-4958-b93d-ce5bff294b67",
   "metadata": {},
   "outputs": [],
   "source": [
    "from flash import Flask\n",
    "app = Flsak(__name__)\n",
    " \n",
    "@app.route(\"/pw\")\n",
    "\n",
    "def pwskills() :\n",
    "    data = request.args.get('x')\n",
    "    return \"this is my data for my url {} \" .format(data)\n",
    "\n",
    "if __name__ == \"__main__\":\n",
    "    app.run hoste=(0.0.0.0)\n"
   ]
  },
  {
   "cell_type": "code",
   "execution_count": null,
   "id": "342e7f2a-bcf3-4d94-b3f8-b2a6b01ccfd0",
   "metadata": {},
   "outputs": [],
   "source": []
  }
 ],
 "metadata": {
  "kernelspec": {
   "display_name": "Python 3 (ipykernel)",
   "language": "python",
   "name": "python3"
  },
  "language_info": {
   "codemirror_mode": {
    "name": "ipython",
    "version": 3
   },
   "file_extension": ".py",
   "mimetype": "text/x-python",
   "name": "python",
   "nbconvert_exporter": "python",
   "pygments_lexer": "ipython3",
   "version": "3.10.8"
  }
 },
 "nbformat": 4,
 "nbformat_minor": 5
}
